{
 "cells": [
  {
   "cell_type": "code",
   "execution_count": 2,
   "id": "621ca229-2e4d-4579-a0b2-4f504e67c168",
   "metadata": {},
   "outputs": [
    {
     "name": "stdout",
     "output_type": "stream",
     "text": [
      "X_test  (2, 37)\n"
     ]
    }
   ],
   "source": [
    "## Conversion Reference: https://github.com/onnx/sklearn-onnx\n",
    "\n",
    "# Convert into ONNX format.\n",
    "from skl2onnx import to_onnx\n",
    "import joblib\n",
    "import numpy as np\n",
    "import onnxruntime as rt\n",
    "from skl2onnx.common.data_types import FloatTensorType\n",
    "\n",
    "\n",
    "tree_model_path = \"/Users/apple/work/Culling/selection_algo/dumps/random_forest_model_trained2Batches_2Aug.joblib\"\n",
    "DUMP_model_path = \"/Users/apple/work/Culling/selection_algo/dumps/to_onnx/sample_selection_model.onnx\"\n",
    "\n",
    "clr = joblib.load(tree_model_path)\n",
    "\n",
    "FEAT_SIZE = 37\n",
    "\n",
    "input_feat = np.random.rand(100,FEAT_SIZE).astype(np.float32)\n",
    "X_test = input_feat[50:60,:]\n",
    "X_test = np.zeros((2,FEAT_SIZE)).astype(np.float32)\n",
    "\n",
    "print(\"X_test \", X_test.shape)\n",
    "\n",
    "initial_type = [(\"input_feature\", FloatTensorType([None, FEAT_SIZE]))]\n",
    "## To make probabilities instead of labels, set \"target_opset=12\"\n",
    "onx = to_onnx(clr, X_test[:1], initial_types=initial_type, target_opset=12)\n",
    "\n",
    "# initial_type = [(\"float_input\", FloatTensorType([None, 4]))]\n",
    "# options = {id(clr): {\"raw_scores\": True}}\n",
    "# onx2 = convert_sklearn(\n",
    "#     clr, initial_types=initial_type, options=options, target_opset=12\n",
    "# )\n",
    "              \n",
    "with open(DUMP_model_path, \"wb\") as f:\n",
    "    f.write(onx.SerializeToString())\n",
    "\n"
   ]
  },
  {
   "cell_type": "markdown",
   "id": "920ab9db-301b-4550-9cd8-68f6117d4def",
   "metadata": {},
   "source": [
    "# Inference using onnxruntime\n"
   ]
  },
  {
   "cell_type": "code",
   "execution_count": 3,
   "id": "99d4f287-62cf-45da-ab5f-277b049ef439",
   "metadata": {},
   "outputs": [
    {
     "name": "stdout",
     "output_type": "stream",
     "text": [
      "Input expected type: tensor(float)\n",
      "passed input  <class 'numpy.ndarray'>\n",
      "input_name  input_feature\n",
      "label_name  output_label\n",
      "pred_onx  [array([1, 1], dtype=int64), [{0: 0.1156991720199585, 1: 0.8843008279800415}, {0: 0.1156991720199585, 1: 0.8843008279800415}]]\n"
     ]
    }
   ],
   "source": [
    "# Inference using onnxruntime\n",
    "\n",
    "sess = rt.InferenceSession(DUMP_model_path, providers=[\"CPUExecutionProvider\"])\n",
    "input_name = sess.get_inputs()[0].name\n",
    "label_name = sess.get_outputs()[0].name\n",
    "print(\"Input expected type:\", sess.get_inputs()[0].type)\n",
    "print(\"passed input \", type(X_test))\n",
    "\n",
    "print(\"input_name \", input_name)\n",
    "print(\"label_name \", label_name)\n",
    "\n",
    "# pred_onx = sess.run([label_name], {input_name: X_test.astype(np.float32)})\n",
    "pred_onx = sess.run(None, {input_name: X_test.astype(np.float32)})\n",
    "\n",
    "print(\"pred_onx \", pred_onx)"
   ]
  },
  {
   "cell_type": "code",
   "execution_count": null,
   "id": "80402209-6a5a-4684-9254-d9d629b3c903",
   "metadata": {},
   "outputs": [],
   "source": []
  }
 ],
 "metadata": {
  "kernelspec": {
   "display_name": "Python 3 (ipykernel)",
   "language": "python",
   "name": "python3"
  },
  "language_info": {
   "codemirror_mode": {
    "name": "ipython",
    "version": 3
   },
   "file_extension": ".py",
   "mimetype": "text/x-python",
   "name": "python",
   "nbconvert_exporter": "python",
   "pygments_lexer": "ipython3",
   "version": "3.8.12"
  }
 },
 "nbformat": 4,
 "nbformat_minor": 5
}
